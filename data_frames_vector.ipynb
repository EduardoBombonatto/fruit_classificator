{
 "cells": [
  {
   "cell_type": "code",
   "id": "initial_id",
   "metadata": {
    "collapsed": true,
    "ExecuteTime": {
     "end_time": "2025-07-06T00:45:39.497041Z",
     "start_time": "2025-07-06T00:45:38.803934Z"
    }
   },
   "source": [
    "import os\n",
    "import pandas as pd\n",
    "import xml.etree.ElementTree as ET"
   ],
   "outputs": [],
   "execution_count": 2
  },
  {
   "metadata": {
    "ExecuteTime": {
     "end_time": "2025-07-06T00:45:39.962775Z",
     "start_time": "2025-07-06T00:45:39.958541Z"
    }
   },
   "cell_type": "code",
   "source": "bbox_file = \"./docs/bbox_annotations.xml\"",
   "id": "467382de0b5a3f4e",
   "outputs": [],
   "execution_count": 3
  },
  {
   "metadata": {
    "ExecuteTime": {
     "end_time": "2025-07-06T00:45:41.366161Z",
     "start_time": "2025-07-06T00:45:41.359228Z"
    }
   },
   "cell_type": "code",
   "source": [
    "tabela_classes = {\n",
    "    0: \"acerola\",\n",
    "    1: \"lemon\",\n",
    "    2: \"cherry_tomato\",\n",
    "    3: \"khaki\",\n",
    "    4: \"banana\",\n",
    "    5: \"lime\",\n",
    "    6: \"clove_lemon\",\n",
    "    7: \"avocado\",\n",
    "    8: \"bergamot\",\n",
    "    9: \"pear\"\n",
    "}"
   ],
   "id": "b08acb9377a2326e",
   "outputs": [],
   "execution_count": 4
  },
  {
   "metadata": {
    "ExecuteTime": {
     "end_time": "2025-07-06T00:45:42.842905Z",
     "start_time": "2025-07-06T00:45:42.835066Z"
    }
   },
   "cell_type": "code",
   "source": [
    "def carregar_anotacoes(caminho_do_xml):\n",
    "\n",
    "    if not os.path.exists(caminho_do_xml):\n",
    "        print(f\"ERRO: Arquivo de anotações não encontrado em '{caminho_do_xml}'\")\n",
    "        return None\n",
    "\n",
    "    tree = ET.parse(caminho_do_xml)\n",
    "    root = tree.getroot()\n",
    "    anotacoes = {}\n",
    "\n",
    "    for image_elem in root.findall('image'):\n",
    "        filename = image_elem.get('name')\n",
    "        box_elem = image_elem.find('box')\n",
    "        if filename is not None and box_elem is not None:\n",
    "            xmin = int(float(box_elem.get('xtl')))\n",
    "            ymin = int(float(box_elem.get('ytl')))\n",
    "            xmax = int(float(box_elem.get('xbr')))\n",
    "            ymax = int(float(box_elem.get('ybr')))\n",
    "            anotacoes[filename] = {\n",
    "                'xmin': xmin,\n",
    "                'ymin': ymin,\n",
    "                'xmax': xmax,\n",
    "                'ymax': ymax\n",
    "            }\n",
    "\n",
    "    return anotacoes"
   ],
   "id": "177d9491f13a7f0c",
   "outputs": [],
   "execution_count": 5
  },
  {
   "metadata": {
    "ExecuteTime": {
     "end_time": "2025-07-06T00:45:44.479385Z",
     "start_time": "2025-07-06T00:45:44.470565Z"
    }
   },
   "cell_type": "code",
   "source": [
    "anotacoes = carregar_anotacoes(bbox_file)\n",
    "print(anotacoes)"
   ],
   "id": "ffec3d87bed6a62e",
   "outputs": [
    {
     "name": "stdout",
     "output_type": "stream",
     "text": [
      "{'0-01-V1-B.png': {'xmin': 125, 'ymin': 209, 'xmax': 206, 'ymax': 289}, '0-01-V1-W.png': {'xmin': 132, 'ymin': 218, 'xmax': 210, 'ymax': 288}, '0-01-V2-B.png': {'xmin': 127, 'ymin': 193, 'xmax': 219, 'ymax': 272}, '0-01-V2-W.png': {'xmin': 134, 'ymin': 194, 'xmax': 231, 'ymax': 282}, '0-02-V1-B.png': {'xmin': 117, 'ymin': 180, 'xmax': 220, 'ymax': 279}, '0-02-V1-W.png': {'xmin': 118, 'ymin': 211, 'xmax': 217, 'ymax': 302}, '0-02-V2-B.png': {'xmin': 125, 'ymin': 172, 'xmax': 204, 'ymax': 263}, '0-02-V2-W.png': {'xmin': 131, 'ymin': 191, 'xmax': 200, 'ymax': 277}, '0-03-V1-B.png': {'xmin': 126, 'ymin': 199, 'xmax': 209, 'ymax': 280}, '0-03-V1-W.png': {'xmin': 118, 'ymin': 188, 'xmax': 219, 'ymax': 288}, '0-03-V2-B.png': {'xmin': 136, 'ymin': 191, 'xmax': 202, 'ymax': 270}, '0-03-V2-W.png': {'xmin': 134, 'ymin': 204, 'xmax': 212, 'ymax': 296}, '0-04-V1-B.png': {'xmin': 123, 'ymin': 208, 'xmax': 187, 'ymax': 275}, '0-04-V1-W.png': {'xmin': 131, 'ymin': 212, 'xmax': 210, 'ymax': 295}, '0-04-V2-B.png': {'xmin': 137, 'ymin': 200, 'xmax': 204, 'ymax': 275}, '0-04-V2-W.png': {'xmin': 143, 'ymin': 210, 'xmax': 212, 'ymax': 286}, '0-05-V1-B.png': {'xmin': 138, 'ymin': 202, 'xmax': 201, 'ymax': 269}, '0-05-V1-W.png': {'xmin': 126, 'ymin': 193, 'xmax': 202, 'ymax': 268}, '0-05-V2-B.png': {'xmin': 140, 'ymin': 197, 'xmax': 204, 'ymax': 266}, '0-05-V2-W.png': {'xmin': 146, 'ymin': 200, 'xmax': 205, 'ymax': 265}, '1-01-V1-B.png': {'xmin': 100, 'ymin': 153, 'xmax': 252, 'ymax': 308}, '1-01-V1-W.png': {'xmin': 94, 'ymin': 168, 'xmax': 254, 'ymax': 326}, '1-01-V2-B.png': {'xmin': 91, 'ymin': 155, 'xmax': 266, 'ymax': 304}, '1-01-V2-W.png': {'xmin': 83, 'ymin': 172, 'xmax': 268, 'ymax': 328}, '1-02-V1-B.png': {'xmin': 100, 'ymin': 148, 'xmax': 239, 'ymax': 288}, '1-02-V1-W.png': {'xmin': 111, 'ymin': 177, 'xmax': 253, 'ymax': 318}, '1-02-V2-B.png': {'xmin': 81, 'ymin': 160, 'xmax': 241, 'ymax': 304}, '1-02-V2-W.png': {'xmin': 84, 'ymin': 175, 'xmax': 240, 'ymax': 309}, '1-03-V1-B.png': {'xmin': 107, 'ymin': 163, 'xmax': 243, 'ymax': 298}, '1-03-V1-W.png': {'xmin': 95, 'ymin': 148, 'xmax': 237, 'ymax': 289}, '1-03-V2-B.png': {'xmin': 93, 'ymin': 159, 'xmax': 244, 'ymax': 295}, '1-03-V2-W.png': {'xmin': 89, 'ymin': 150, 'xmax': 244, 'ymax': 297}, '1-04-V1-B.png': {'xmin': 98, 'ymin': 172, 'xmax': 236, 'ymax': 305}, '1-04-V1-W.png': {'xmin': 97, 'ymin': 161, 'xmax': 238, 'ymax': 296}, '1-04-V2-B.png': {'xmin': 94, 'ymin': 166, 'xmax': 245, 'ymax': 309}, '1-04-V2-W.png': {'xmin': 87, 'ymin': 159, 'xmax': 244, 'ymax': 305}, '1-05-V1-B.png': {'xmin': 105, 'ymin': 153, 'xmax': 244, 'ymax': 293}, '1-05-V1-W.png': {'xmin': 92, 'ymin': 156, 'xmax': 240, 'ymax': 299}, '1-05-V2-B.png': {'xmin': 89, 'ymin': 176, 'xmax': 239, 'ymax': 311}, '1-05-V2-W.png': {'xmin': 88, 'ymin': 170, 'xmax': 247, 'ymax': 314}, '2-01-V1-B.png': {'xmin': 124, 'ymin': 203, 'xmax': 184, 'ymax': 269}, '2-01-V1-W.png': {'xmin': 134, 'ymin': 211, 'xmax': 197, 'ymax': 278}, '2-01-V2-B.png': {'xmin': 124, 'ymin': 194, 'xmax': 200, 'ymax': 265}, '2-01-V2-W.png': {'xmin': 129, 'ymin': 220, 'xmax': 202, 'ymax': 280}, '2-02-V1-B.png': {'xmin': 137, 'ymin': 198, 'xmax': 192, 'ymax': 261}, '2-02-V1-W.png': {'xmin': 136, 'ymin': 197, 'xmax': 188, 'ymax': 255}, '2-02-V2-B.png': {'xmin': 131, 'ymin': 189, 'xmax': 205, 'ymax': 253}, '2-02-V2-W.png': {'xmin': 111, 'ymin': 205, 'xmax': 186, 'ymax': 268}, '2-03-V1-B.png': {'xmin': 126, 'ymin': 207, 'xmax': 195, 'ymax': 278}, '2-03-V1-W.png': {'xmin': 138, 'ymin': 211, 'xmax': 205, 'ymax': 280}, '2-03-V2-B.png': {'xmin': 120, 'ymin': 191, 'xmax': 213, 'ymax': 259}, '2-03-V2-W.png': {'xmin': 121, 'ymin': 214, 'xmax': 200, 'ymax': 274}, '2-04-V1-B.png': {'xmin': 128, 'ymin': 206, 'xmax': 185, 'ymax': 270}, '2-04-V1-W.png': {'xmin': 136, 'ymin': 218, 'xmax': 204, 'ymax': 285}, '2-04-V2-B.png': {'xmin': 129, 'ymin': 216, 'xmax': 204, 'ymax': 273}, '2-04-V2-W.png': {'xmin': 129, 'ymin': 211, 'xmax': 208, 'ymax': 272}, '2-05-V1-B.png': {'xmin': 130, 'ymin': 208, 'xmax': 194, 'ymax': 271}, '2-05-V1-W.png': {'xmin': 130, 'ymin': 214, 'xmax': 197, 'ymax': 276}, '2-05-V2-B.png': {'xmin': 129, 'ymin': 200, 'xmax': 204, 'ymax': 268}, '2-05-V2-W.png': {'xmin': 123, 'ymin': 190, 'xmax': 201, 'ymax': 254}, '3-01-V1-B.png': {'xmin': 87, 'ymin': 147, 'xmax': 244, 'ymax': 303}, '3-01-V1-W.png': {'xmin': 91, 'ymin': 154, 'xmax': 248, 'ymax': 312}, '3-01-V2-B.png': {'xmin': 100, 'ymin': 147, 'xmax': 235, 'ymax': 305}, '3-01-V2-W.png': {'xmin': 108, 'ymin': 168, 'xmax': 239, 'ymax': 321}, '3-02-V1-B.png': {'xmin': 88, 'ymin': 142, 'xmax': 239, 'ymax': 305}, '3-02-V1-W.png': {'xmin': 95, 'ymin': 134, 'xmax': 248, 'ymax': 298}, '3-02-V2-B.png': {'xmin': 102, 'ymin': 155, 'xmax': 246, 'ymax': 313}, '3-02-V2-W.png': {'xmin': 103, 'ymin': 162, 'xmax': 251, 'ymax': 326}, '3-03-V1-B.png': {'xmin': 97, 'ymin': 154, 'xmax': 262, 'ymax': 316}, '3-03-V1-W.png': {'xmin': 89, 'ymin': 167, 'xmax': 248, 'ymax': 325}, '3-03-V2-B.png': {'xmin': 101, 'ymin': 155, 'xmax': 233, 'ymax': 311}, '3-03-V2-W.png': {'xmin': 98, 'ymin': 159, 'xmax': 242, 'ymax': 335}, '3-04-V1-B.png': {'xmin': 93, 'ymin': 160, 'xmax': 259, 'ymax': 321}, '3-04-V1-W.png': {'xmin': 91, 'ymin': 169, 'xmax': 247, 'ymax': 320}, '3-04-V2-B.png': {'xmin': 104, 'ymin': 177, 'xmax': 246, 'ymax': 336}, '3-04-V2-W.png': {'xmin': 90, 'ymin': 167, 'xmax': 244, 'ymax': 334}, '3-05-V1-B.png': {'xmin': 86, 'ymin': 140, 'xmax': 246, 'ymax': 307}, '3-05-V1-W.png': {'xmin': 97, 'ymin': 154, 'xmax': 243, 'ymax': 313}, '3-05-V2-B.png': {'xmin': 96, 'ymin': 158, 'xmax': 235, 'ymax': 323}, '3-05-V2-W.png': {'xmin': 105, 'ymin': 154, 'xmax': 243, 'ymax': 318}, '4-01-V1-B.png': {'xmin': 95, 'ymin': 137, 'xmax': 277, 'ymax': 366}, '4-01-V1-W.png': {'xmin': 48, 'ymin': 159, 'xmax': 304, 'ymax': 312}, '4-01-V2-B.png': {'xmin': 68, 'ymin': 116, 'xmax': 278, 'ymax': 320}, '4-01-V2-W.png': {'xmin': 87, 'ymin': 83, 'xmax': 236, 'ymax': 363}, '4-02-V1-B.png': {'xmin': 24, 'ymin': 184, 'xmax': 286, 'ymax': 328}, '4-02-V1-W.png': {'xmin': 23, 'ymin': 182, 'xmax': 314, 'ymax': 315}, '4-02-V2-B.png': {'xmin': 36, 'ymin': 174, 'xmax': 302, 'ymax': 326}, '4-02-V2-W.png': {'xmin': 58, 'ymin': 98, 'xmax': 226, 'ymax': 369}, '4-03-V1-B.png': {'xmin': 33, 'ymin': 125, 'xmax': 237, 'ymax': 351}, '4-03-V1-W.png': {'xmin': 29, 'ymin': 130, 'xmax': 281, 'ymax': 325}, '4-03-V2-B.png': {'xmin': 38, 'ymin': 113, 'xmax': 265, 'ymax': 319}, '4-03-V2-W.png': {'xmin': 73, 'ymin': 94, 'xmax': 274, 'ymax': 401}, '4-04-V1-B.png': {'xmin': 73, 'ymin': 87, 'xmax': 259, 'ymax': 388}, '4-04-V1-W.png': {'xmin': 66, 'ymin': 137, 'xmax': 312, 'ymax': 351}, '4-04-V2-B.png': {'xmin': 80, 'ymin': 87, 'xmax': 241, 'ymax': 384}, '4-04-V2-W.png': {'xmin': 54, 'ymin': 94, 'xmax': 243, 'ymax': 361}, '4-05-V1-B.png': {'xmin': 89, 'ymin': 85, 'xmax': 264, 'ymax': 392}, '4-05-V1-W.png': {'xmin': 54, 'ymin': 127, 'xmax': 296, 'ymax': 402}, '4-05-V2-B.png': {'xmin': 37, 'ymin': 134, 'xmax': 303, 'ymax': 369}, '4-05-V2-W.png': {'xmin': 62, 'ymin': 77, 'xmax': 297, 'ymax': 334}, '5-01-V1-B.png': {'xmin': 71, 'ymin': 146, 'xmax': 269, 'ymax': 343}, '5-01-V1-W.png': {'xmin': 51, 'ymin': 131, 'xmax': 265, 'ymax': 341}, '5-01-V2-B.png': {'xmin': 76, 'ymin': 145, 'xmax': 269, 'ymax': 340}, '5-01-V2-W.png': {'xmin': 79, 'ymin': 133, 'xmax': 274, 'ymax': 327}, '5-02-V1-B.png': {'xmin': 72, 'ymin': 130, 'xmax': 262, 'ymax': 330}, '5-02-V1-W.png': {'xmin': 70, 'ymin': 139, 'xmax': 246, 'ymax': 311}, '5-02-V2-B.png': {'xmin': 76, 'ymin': 154, 'xmax': 253, 'ymax': 349}, '5-02-V2-W.png': {'xmin': 81, 'ymin': 154, 'xmax': 241, 'ymax': 308}, '5-03-V1-B.png': {'xmin': 82, 'ymin': 151, 'xmax': 261, 'ymax': 342}, '5-03-V1-W.png': {'xmin': 73, 'ymin': 154, 'xmax': 244, 'ymax': 325}, '5-03-V2-B.png': {'xmin': 85, 'ymin': 152, 'xmax': 262, 'ymax': 319}, '5-03-V2-W.png': {'xmin': 79, 'ymin': 154, 'xmax': 255, 'ymax': 334}, '5-04-V1-B.png': {'xmin': 68, 'ymin': 146, 'xmax': 259, 'ymax': 343}, '5-04-V1-W.png': {'xmin': 57, 'ymin': 128, 'xmax': 261, 'ymax': 350}, '5-04-V2-B.png': {'xmin': 69, 'ymin': 143, 'xmax': 270, 'ymax': 348}, '5-04-V2-W.png': {'xmin': 55, 'ymin': 134, 'xmax': 270, 'ymax': 346}, '5-05-V1-B.png': {'xmin': 60, 'ymin': 133, 'xmax': 271, 'ymax': 337}, '5-05-V1-W.png': {'xmin': 81, 'ymin': 150, 'xmax': 238, 'ymax': 304}, '5-05-V2-B.png': {'xmin': 67, 'ymin': 128, 'xmax': 263, 'ymax': 323}, '5-05-V2-W.png': {'xmin': 77, 'ymin': 141, 'xmax': 242, 'ymax': 307}, '6-01-V1-B.png': {'xmin': 78, 'ymin': 161, 'xmax': 256, 'ymax': 326}, '6-01-V1-W.png': {'xmin': 86, 'ymin': 154, 'xmax': 250, 'ymax': 313}, '6-01-V2-B.png': {'xmin': 92, 'ymin': 159, 'xmax': 249, 'ymax': 311}, '6-01-V2-W.png': {'xmin': 110, 'ymin': 178, 'xmax': 227, 'ymax': 305}, '6-02-V1-B.png': {'xmin': 96, 'ymin': 181, 'xmax': 239, 'ymax': 327}, '6-02-V1-W.png': {'xmin': 89, 'ymin': 163, 'xmax': 227, 'ymax': 310}, '6-02-V2-B.png': {'xmin': 97, 'ymin': 145, 'xmax': 253, 'ymax': 311}, '6-02-V2-W.png': {'xmin': 83, 'ymin': 152, 'xmax': 238, 'ymax': 300}, '6-03-V1-B.png': {'xmin': 88, 'ymin': 167, 'xmax': 236, 'ymax': 315}, '6-03-V1-W.png': {'xmin': 112, 'ymin': 183, 'xmax': 235, 'ymax': 315}, '6-03-V2-B.png': {'xmin': 91, 'ymin': 164, 'xmax': 249, 'ymax': 312}, '6-03-V2-W.png': {'xmin': 98, 'ymin': 157, 'xmax': 246, 'ymax': 298}, '6-04-V1-B.png': {'xmin': 86, 'ymin': 155, 'xmax': 260, 'ymax': 313}, '6-04-V1-W.png': {'xmin': 87, 'ymin': 141, 'xmax': 266, 'ymax': 299}, '6-04-V2-B.png': {'xmin': 95, 'ymin': 148, 'xmax': 241, 'ymax': 298}, '6-04-V2-W.png': {'xmin': 82, 'ymin': 149, 'xmax': 253, 'ymax': 316}, '6-05-V1-B.png': {'xmin': 92, 'ymin': 164, 'xmax': 240, 'ymax': 316}, '6-05-V1-W.png': {'xmin': 87, 'ymin': 140, 'xmax': 244, 'ymax': 294}, '6-05-V2-B.png': {'xmin': 89, 'ymin': 160, 'xmax': 246, 'ymax': 309}, '6-05-V2-W.png': {'xmin': 117, 'ymin': 165, 'xmax': 263, 'ymax': 322}, '7-01-V1-B.png': {'xmin': 44, 'ymin': 146, 'xmax': 305, 'ymax': 327}, '7-01-V1-W.png': {'xmin': 61, 'ymin': 139, 'xmax': 277, 'ymax': 346}, '7-01-V2-B.png': {'xmin': 48, 'ymin': 133, 'xmax': 292, 'ymax': 314}, '7-01-V2-W.png': {'xmin': 69, 'ymin': 106, 'xmax': 260, 'ymax': 347}, '7-02-V1-B.png': {'xmin': 86, 'ymin': 123, 'xmax': 260, 'ymax': 345}, '7-02-V1-W.png': {'xmin': 38, 'ymin': 141, 'xmax': 292, 'ymax': 354}, '7-02-V2-B.png': {'xmin': 80, 'ymin': 133, 'xmax': 249, 'ymax': 340}, '7-02-V2-W.png': {'xmin': 57, 'ymin': 109, 'xmax': 257, 'ymax': 354}, '7-03-V1-B.png': {'xmin': 53, 'ymin': 99, 'xmax': 260, 'ymax': 359}, '7-03-V1-W.png': {'xmin': 85, 'ymin': 76, 'xmax': 288, 'ymax': 370}, '7-03-V2-B.png': {'xmin': 39, 'ymin': 138, 'xmax': 283, 'ymax': 319}, '7-03-V2-W.png': {'xmin': 76, 'ymin': 104, 'xmax': 272, 'ymax': 363}, '7-04-V1-B.png': {'xmin': 63, 'ymin': 96, 'xmax': 256, 'ymax': 358}, '7-04-V1-W.png': {'xmin': 43, 'ymin': 77, 'xmax': 281, 'ymax': 344}, '7-04-V2-B.png': {'xmin': 64, 'ymin': 130, 'xmax': 289, 'ymax': 315}, '7-04-V2-W.png': {'xmin': 64, 'ymin': 81, 'xmax': 268, 'ymax': 362}, '7-05-V1-B.png': {'xmin': 74, 'ymin': 116, 'xmax': 252, 'ymax': 364}, '7-05-V1-W.png': {'xmin': 49, 'ymin': 138, 'xmax': 275, 'ymax': 373}, '7-05-V2-B.png': {'xmin': 38, 'ymin': 111, 'xmax': 276, 'ymax': 356}, '7-05-V2-W.png': {'xmin': 53, 'ymin': 76, 'xmax': 268, 'ymax': 362}, '8-01-V1-B.png': {'xmin': 60, 'ymin': 146, 'xmax': 268, 'ymax': 349}, '8-01-V1-W.png': {'xmin': 71, 'ymin': 136, 'xmax': 271, 'ymax': 342}, '8-01-V2-B.png': {'xmin': 57, 'ymin': 140, 'xmax': 271, 'ymax': 351}, '8-01-V2-W.png': {'xmin': 61, 'ymin': 135, 'xmax': 257, 'ymax': 325}, '8-02-V1-B.png': {'xmin': 70, 'ymin': 137, 'xmax': 256, 'ymax': 316}, '8-02-V1-W.png': {'xmin': 57, 'ymin': 156, 'xmax': 264, 'ymax': 354}, '8-02-V2-B.png': {'xmin': 64, 'ymin': 147, 'xmax': 273, 'ymax': 311}, '8-02-V2-W.png': {'xmin': 77, 'ymin': 147, 'xmax': 267, 'ymax': 311}, '8-03-V1-B.png': {'xmin': 56, 'ymin': 138, 'xmax': 256, 'ymax': 335}, '8-03-V1-W.png': {'xmin': 55, 'ymin': 134, 'xmax': 257, 'ymax': 334}, '8-03-V2-B.png': {'xmin': 67, 'ymin': 132, 'xmax': 261, 'ymax': 333}, '8-03-V2-W.png': {'xmin': 54, 'ymin': 130, 'xmax': 270, 'ymax': 351}, '8-04-V1-B.png': {'xmin': 55, 'ymin': 125, 'xmax': 269, 'ymax': 351}, '8-04-V1-W.png': {'xmin': 44, 'ymin': 120, 'xmax': 286, 'ymax': 347}, '8-04-V2-B.png': {'xmin': 58, 'ymin': 120, 'xmax': 265, 'ymax': 336}, '8-04-V2-W.png': {'xmin': 70, 'ymin': 129, 'xmax': 269, 'ymax': 336}, '8-05-V1-B.png': {'xmin': 65, 'ymin': 127, 'xmax': 278, 'ymax': 343}, '8-05-V1-W.png': {'xmin': 69, 'ymin': 144, 'xmax': 260, 'ymax': 333}, '8-05-V2-B.png': {'xmin': 83, 'ymin': 147, 'xmax': 258, 'ymax': 298}, '8-05-V2-W.png': {'xmin': 69, 'ymin': 137, 'xmax': 263, 'ymax': 330}, '9-01-V1-B.png': {'xmin': 101, 'ymin': 161, 'xmax': 227, 'ymax': 290}, '9-01-V1-W.png': {'xmin': 110, 'ymin': 148, 'xmax': 244, 'ymax': 292}, '9-01-V2-B.png': {'xmin': 101, 'ymin': 148, 'xmax': 234, 'ymax': 333}, '9-01-V2-W.png': {'xmin': 109, 'ymin': 137, 'xmax': 238, 'ymax': 335}, '9-02-V1-B.png': {'xmin': 97, 'ymin': 164, 'xmax': 251, 'ymax': 306}, '9-02-V1-W.png': {'xmin': 95, 'ymin': 164, 'xmax': 240, 'ymax': 301}, '9-02-V2-B.png': {'xmin': 85, 'ymin': 144, 'xmax': 255, 'ymax': 338}, '9-02-V2-W.png': {'xmin': 94, 'ymin': 116, 'xmax': 256, 'ymax': 325}, '9-03-V1-B.png': {'xmin': 98, 'ymin': 155, 'xmax': 244, 'ymax': 297}, '9-03-V1-W.png': {'xmin': 109, 'ymin': 145, 'xmax': 252, 'ymax': 287}, '9-03-V2-B.png': {'xmin': 100, 'ymin': 122, 'xmax': 252, 'ymax': 336}, '9-03-V2-W.png': {'xmin': 104, 'ymin': 132, 'xmax': 231, 'ymax': 325}, '9-04-V1-B.png': {'xmin': 88, 'ymin': 170, 'xmax': 239, 'ymax': 319}, '9-04-V1-W.png': {'xmin': 105, 'ymin': 159, 'xmax': 250, 'ymax': 301}, '9-04-V2-B.png': {'xmin': 96, 'ymin': 129, 'xmax': 255, 'ymax': 319}, '9-04-V2-W.png': {'xmin': 97, 'ymin': 125, 'xmax': 249, 'ymax': 315}, '9-05-V1-B.png': {'xmin': 107, 'ymin': 136, 'xmax': 247, 'ymax': 282}, '9-05-V1-W.png': {'xmin': 91, 'ymin': 156, 'xmax': 250, 'ymax': 304}, '9-05-V2-B.png': {'xmin': 96, 'ymin': 124, 'xmax': 245, 'ymax': 352}, '9-05-V2-W.png': {'xmin': 103, 'ymin': 116, 'xmax': 244, 'ymax': 337}}\n"
     ]
    }
   ],
   "execution_count": 6
  },
  {
   "metadata": {
    "ExecuteTime": {
     "end_time": "2025-07-06T00:45:46.050318Z",
     "start_time": "2025-07-06T00:45:46.044896Z"
    }
   },
   "cell_type": "code",
   "source": [
    "def extrair_class_id(file_name):\n",
    "    return int(file_name.split('-')[0])\n",
    "\n",
    "def extrair_class_name(class_id):\n",
    "    return tabela_classes.get(class_id, \"unknown\")"
   ],
   "id": "d043cc3e8368c3f0",
   "outputs": [],
   "execution_count": 7
  },
  {
   "metadata": {
    "ExecuteTime": {
     "end_time": "2025-07-06T00:45:47.065655Z",
     "start_time": "2025-07-06T00:45:47.051473Z"
    }
   },
   "cell_type": "code",
   "source": [
    "df = pd.DataFrame([\n",
    "    {\n",
    "        \"file_name\": file_name,\n",
    "        \"class_name\": extrair_class_name(extrair_class_id(file_name)),\n",
    "        \"xmin\": data[\"xmin\"],\n",
    "        \"ymin\": data[\"ymin\"],\n",
    "        \"xmax\": data[\"xmax\"],\n",
    "        \"ymax\": data[\"ymax\"]\n",
    "    }\n",
    "    for file_name, data in anotacoes.items()\n",
    "])\n",
    "\n",
    "print(df)"
   ],
   "id": "da9f7fc1dd94f7cd",
   "outputs": [
    {
     "name": "stdout",
     "output_type": "stream",
     "text": [
      "         file_name class_name  xmin  ymin  xmax  ymax\n",
      "0    0-01-V1-B.png    acerola   125   209   206   289\n",
      "1    0-01-V1-W.png    acerola   132   218   210   288\n",
      "2    0-01-V2-B.png    acerola   127   193   219   272\n",
      "3    0-01-V2-W.png    acerola   134   194   231   282\n",
      "4    0-02-V1-B.png    acerola   117   180   220   279\n",
      "..             ...        ...   ...   ...   ...   ...\n",
      "195  9-04-V2-W.png       pear    97   125   249   315\n",
      "196  9-05-V1-B.png       pear   107   136   247   282\n",
      "197  9-05-V1-W.png       pear    91   156   250   304\n",
      "198  9-05-V2-B.png       pear    96   124   245   352\n",
      "199  9-05-V2-W.png       pear   103   116   244   337\n",
      "\n",
      "[200 rows x 6 columns]\n"
     ]
    }
   ],
   "execution_count": 8
  },
  {
   "metadata": {
    "ExecuteTime": {
     "end_time": "2025-07-06T00:45:48.600152Z",
     "start_time": "2025-07-06T00:45:48.588626Z"
    }
   },
   "cell_type": "code",
   "source": "df.to_csv(\"./docs/dataset_bbox.csv\", index=False)",
   "id": "8afca9621c41abc4",
   "outputs": [],
   "execution_count": 9
  }
 ],
 "metadata": {
  "kernelspec": {
   "display_name": "Python 3",
   "language": "python",
   "name": "python3"
  },
  "language_info": {
   "codemirror_mode": {
    "name": "ipython",
    "version": 2
   },
   "file_extension": ".py",
   "mimetype": "text/x-python",
   "name": "python",
   "nbconvert_exporter": "python",
   "pygments_lexer": "ipython2",
   "version": "2.7.6"
  }
 },
 "nbformat": 4,
 "nbformat_minor": 5
}
